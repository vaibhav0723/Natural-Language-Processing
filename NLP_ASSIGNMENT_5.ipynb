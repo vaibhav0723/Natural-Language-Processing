{
 "cells": [
  {
   "cell_type": "code",
   "execution_count": 3,
   "metadata": {},
   "outputs": [],
   "source": [
    "class Morphology:\n",
    "    def __init__(self):\n",
    "        # Dictionary to store base words and their morphemes\n",
    "        self.words = {}\n",
    "    \n",
    "    def add_word(self, base_word, morpheme):\n",
    "        \"\"\"Adds a morpheme to a base word.\"\"\"\n",
    "        if base_word in self.words:\n",
    "            self.words[base_word].add(morpheme)\n",
    "        else:\n",
    "            self.words[base_word] = {morpheme}\n",
    "        print(f'Added morpheme \"{morpheme}\" to \"{base_word}\".')\n",
    "    \n",
    "    def delete_morpheme(self, base_word, morpheme):\n",
    "        \"\"\"Removes a morpheme from a base word if it exists.\"\"\"\n",
    "        if base_word in self.words and morpheme in self.words[base_word]:\n",
    "            self.words[base_word].remove(morpheme)\n",
    "            print(f'Removed morpheme \"{morpheme}\" from \"{base_word}\".')\n",
    "            if not self.words[base_word]:\n",
    "                del self.words[base_word]\n",
    "        else:\n",
    "            print(f'Morpheme \"{morpheme}\" not found in \"{base_word}\".')\n",
    "    \n",
    "    def show_table(self):\n",
    "        \"\"\"Displays the add-delete table.\"\"\"\n",
    "        if not self.words:\n",
    "            print(\"No words available.\")\n",
    "            return\n",
    "        \n",
    "        print(\"\\nMorphology Add-Delete Table:\")\n",
    "        print(\"Base Word\".ljust(15), \"Morphemes\")\n",
    "        print(\"-\" * 30)\n",
    "        for word, morphemes in self.words.items():\n",
    "            print(word.ljust(15), \", \".join(morphemes))"
   ]
  },
  {
   "cell_type": "code",
   "execution_count": 4,
   "metadata": {},
   "outputs": [
    {
     "name": "stdout",
     "output_type": "stream",
     "text": [
      "Added morpheme \"-ness\" to \"happy\".\n",
      "Added morpheme \"-ly\" to \"happy\".\n",
      "Added morpheme \"-ing\" to \"run\".\n",
      "Removed morpheme \"-ly\" from \"happy\".\n",
      "\n",
      "Morphology Add-Delete Table:\n",
      "Base Word       Morphemes\n",
      "------------------------------\n",
      "happy           -ness\n",
      "run             -ing\n"
     ]
    }
   ],
   "source": [
    "# Example Usage\n",
    "morph = Morphology()\n",
    "morph.add_word(\"happy\", \"-ness\")\n",
    "morph.add_word(\"happy\", \"-ly\")\n",
    "morph.add_word(\"run\", \"-ing\")\n",
    "morph.delete_morpheme(\"happy\", \"-ly\")\n",
    "morph.show_table()"
   ]
  }
 ],
 "metadata": {
  "kernelspec": {
   "display_name": "Python 3",
   "language": "python",
   "name": "python3"
  },
  "language_info": {
   "codemirror_mode": {
    "name": "ipython",
    "version": 3
   },
   "file_extension": ".py",
   "mimetype": "text/x-python",
   "name": "python",
   "nbconvert_exporter": "python",
   "pygments_lexer": "ipython3",
   "version": "3.11.2"
  }
 },
 "nbformat": 4,
 "nbformat_minor": 2
}
