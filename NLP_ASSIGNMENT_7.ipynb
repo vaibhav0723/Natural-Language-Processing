{
 "cells": [
  {
   "cell_type": "code",
   "execution_count": 2,
   "metadata": {},
   "outputs": [
    {
     "name": "stderr",
     "output_type": "stream",
     "text": [
      "[nltk_data] Downloading package punkt to\n",
      "[nltk_data]     C:\\Users\\chait\\AppData\\Roaming\\nltk_data...\n",
      "[nltk_data]   Package punkt is already up-to-date!\n"
     ]
    },
    {
     "data": {
      "text/plain": [
       "True"
      ]
     },
     "execution_count": 2,
     "metadata": {},
     "output_type": "execute_result"
    }
   ],
   "source": [
    "import re\n",
    "import nltk\n",
    "from collections import defaultdict\n",
    "from nltk.util import ngrams\n",
    "from nltk.tokenize import word_tokenize\n",
    "nltk.download('punkt')"
   ]
  },
  {
   "cell_type": "code",
   "execution_count": 3,
   "metadata": {},
   "outputs": [],
   "source": [
    "class NGramAutoComplete:\n",
    "    def __init__(self, n=3):\n",
    "        self.n = n\n",
    "        self.ngram_counts = defaultdict(lambda: defaultdict(int))\n",
    "        self.context_counts = defaultdict(int)\n",
    "\n",
    "    def preprocess_text(self, text):\n",
    "        text = text.lower()\n",
    "        text = re.sub(r'[^a-zA-Z0-9\\s]', '', text)\n",
    "        return word_tokenize(text)\n",
    "\n",
    "    def train(self, corpus):\n",
    "        tokens = self.preprocess_text(corpus)\n",
    "        n_grams = list(ngrams(tokens, self.n))\n",
    "\n",
    "        for gram in n_grams:\n",
    "            prefix = tuple(gram[:-1])\n",
    "            next_word = gram[-1]\n",
    "            self.ngram_counts[prefix][next_word] += 1\n",
    "            self.context_counts[prefix] += 1\n",
    "\n",
    "    def predict(self, prefix, top_k=3):\n",
    "        tokens = self.preprocess_text(prefix)\n",
    "        if len(tokens) < self.n - 1:\n",
    "            return []\n",
    "        \n",
    "        context = tuple(tokens[-(self.n - 1):])\n",
    "        candidates = self.ngram_counts.get(context, {})\n",
    "\n",
    "        if not candidates:\n",
    "            return []\n",
    "        \n",
    "        sorted_predictions = sorted(candidates.items(), key=lambda x: x[1], reverse=True)\n",
    "        return [word for word, _ in sorted_predictions[:top_k]]"
   ]
  },
  {
   "cell_type": "code",
   "execution_count": 4,
   "metadata": {},
   "outputs": [],
   "source": [
    "corpus = \"\"\"The quick brown fox jumps over the lazy dog. The quick brown fox is fast and clever.\"\"\"\n",
    "auto_complete = NGramAutoComplete(n=3)\n",
    "auto_complete.train(corpus)"
   ]
  },
  {
   "cell_type": "code",
   "execution_count": 5,
   "metadata": {},
   "outputs": [
    {
     "name": "stdout",
     "output_type": "stream",
     "text": [
      "['fox']\n",
      "['brown']\n"
     ]
    }
   ],
   "source": [
    "print(auto_complete.predict(\"The quick brown\"))  # Output: ['fox']\n",
    "print(auto_complete.predict(\"The quick\"))  # Output: ['brown']"
   ]
  }
 ],
 "metadata": {
  "kernelspec": {
   "display_name": "Python 3",
   "language": "python",
   "name": "python3"
  },
  "language_info": {
   "codemirror_mode": {
    "name": "ipython",
    "version": 3
   },
   "file_extension": ".py",
   "mimetype": "text/x-python",
   "name": "python",
   "nbconvert_exporter": "python",
   "pygments_lexer": "ipython3",
   "version": "3.11.2"
  }
 },
 "nbformat": 4,
 "nbformat_minor": 2
}
