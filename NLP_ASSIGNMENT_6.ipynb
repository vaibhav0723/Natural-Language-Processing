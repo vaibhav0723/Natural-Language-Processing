{
 "cells": [
  {
   "cell_type": "code",
   "execution_count": 2,
   "metadata": {},
   "outputs": [
    {
     "name": "stdout",
     "output_type": "stream",
     "text": [
      "Defaulting to user installation because normal site-packages is not writeable\n",
      "Collecting textblob\n",
      "  Downloading textblob-0.19.0-py3-none-any.whl.metadata (4.4 kB)\n",
      "Requirement already satisfied: nltk>=3.9 in c:\\users\\chait\\appdata\\roaming\\python\\python311\\site-packages (from textblob) (3.9.1)\n",
      "Requirement already satisfied: click in c:\\users\\chait\\appdata\\roaming\\python\\python311\\site-packages (from nltk>=3.9->textblob) (8.1.8)\n",
      "Requirement already satisfied: joblib in c:\\users\\chait\\appdata\\roaming\\python\\python311\\site-packages (from nltk>=3.9->textblob) (1.3.2)\n",
      "Requirement already satisfied: regex>=2021.8.3 in c:\\users\\chait\\appdata\\roaming\\python\\python311\\site-packages (from nltk>=3.9->textblob) (2024.7.24)\n",
      "Requirement already satisfied: tqdm in c:\\users\\chait\\appdata\\roaming\\python\\python311\\site-packages (from nltk>=3.9->textblob) (4.67.1)\n",
      "Requirement already satisfied: colorama in c:\\users\\chait\\appdata\\roaming\\python\\python311\\site-packages (from click->nltk>=3.9->textblob) (0.4.6)\n",
      "Downloading textblob-0.19.0-py3-none-any.whl (624 kB)\n",
      "   ---------------------------------------- 0.0/624.3 kB ? eta -:--:--\n",
      "   ---------------------------------------- 624.3/624.3 kB 7.7 MB/s eta 0:00:00\n",
      "Installing collected packages: textblob\n",
      "Successfully installed textblob-0.19.0\n",
      "Note: you may need to restart the kernel to use updated packages.\n"
     ]
    },
    {
     "name": "stderr",
     "output_type": "stream",
     "text": [
      "DEPRECATION: Loading egg at c:\\program files\\python311\\lib\\site-packages\\vboxapi-1.0-py3.11.egg is deprecated. pip 25.1 will enforce this behaviour change. A possible replacement is to use pip for package installation. Discussion can be found at https://github.com/pypa/pip/issues/12330\n",
      "\n",
      "[notice] A new release of pip is available: 25.0 -> 25.0.1\n",
      "[notice] To update, run: python.exe -m pip install --upgrade pip\n"
     ]
    }
   ],
   "source": [
    "pip install textblob"
   ]
  },
  {
   "cell_type": "code",
   "execution_count": 3,
   "metadata": {},
   "outputs": [],
   "source": [
    "from textblob import TextBlob\n"
   ]
  },
  {
   "cell_type": "code",
   "execution_count": 4,
   "metadata": {},
   "outputs": [],
   "source": [
    "class Morphology:\n",
    "    def __init__(self):\n",
    "        # Dictionary to store base words and their morphemes\n",
    "        self.words = {}\n",
    "    \n",
    "    def add_word(self, base_word, morpheme):\n",
    "        \"\"\"Adds a morpheme to a base word.\"\"\"\n",
    "        if base_word in self.words:\n",
    "            self.words[base_word].add(morpheme)\n",
    "        else:\n",
    "            self.words[base_word] = {morpheme}\n",
    "        print(f'Added morpheme \"{morpheme}\" to \"{base_word}\".')\n",
    "    \n",
    "    def delete_morpheme(self, base_word, morpheme):\n",
    "        \"\"\"Removes a morpheme from a base word if it exists.\"\"\"\n",
    "        if base_word in self.words and morpheme in self.words[base_word]:\n",
    "            self.words[base_word].remove(morpheme)\n",
    "            print(f'Removed morpheme \"{morpheme}\" from \"{base_word}\".')\n",
    "            if not self.words[base_word]:\n",
    "                del self.words[base_word]\n",
    "        else:\n",
    "            print(f'Morpheme \"{morpheme}\" not found in \"{base_word}\".')\n",
    "    \n",
    "    def analyze_sentiment(self, text):\n",
    "        \"\"\"Performs sentiment analysis on the given text using TextBlob.\"\"\"\n",
    "        analysis = TextBlob(text)\n",
    "        sentiment_score = analysis.sentiment.polarity\n",
    "        if sentiment_score > 0:\n",
    "            sentiment = \"Positive\"\n",
    "        elif sentiment_score < 0:\n",
    "            sentiment = \"Negative\"\n",
    "        else:\n",
    "            sentiment = \"Neutral\"\n",
    "        print(f'Sentiment Analysis: {sentiment} (Score: {sentiment_score})')\n",
    "    \n",
    "    def show_table(self):\n",
    "        \"\"\"Displays the add-delete table.\"\"\"\n",
    "        if not self.words:\n",
    "            print(\"No words available.\")\n",
    "            return\n",
    "        \n",
    "        print(\"\\nMorphology Add-Delete Table:\")\n",
    "        print(\"Base Word\".ljust(15), \"Morphemes\")\n",
    "        print(\"-\" * 30)\n",
    "        for word, morphemes in self.words.items():\n",
    "            print(word.ljust(15), \", \".join(morphemes))"
   ]
  },
  {
   "cell_type": "code",
   "execution_count": 5,
   "metadata": {},
   "outputs": [
    {
     "name": "stdout",
     "output_type": "stream",
     "text": [
      "Added morpheme \"-ness\" to \"happy\".\n",
      "Added morpheme \"-ly\" to \"happy\".\n",
      "Added morpheme \"-ing\" to \"run\".\n",
      "Removed morpheme \"-ly\" from \"happy\".\n",
      "\n",
      "Morphology Add-Delete Table:\n",
      "Base Word       Morphemes\n",
      "------------------------------\n",
      "happy           -ness\n",
      "run             -ing\n",
      "Sentiment Analysis: Positive (Score: 1.0)\n"
     ]
    }
   ],
   "source": [
    "# Example Usage\n",
    "morph = Morphology()\n",
    "morph.add_word(\"happy\", \"-ness\")\n",
    "morph.add_word(\"happy\", \"-ly\")\n",
    "morph.add_word(\"run\", \"-ing\")\n",
    "morph.delete_morpheme(\"happy\", \"-ly\")\n",
    "morph.show_table()\n",
    "morph.analyze_sentiment(\"I am extremely happy today!\")"
   ]
  }
 ],
 "metadata": {
  "kernelspec": {
   "display_name": "Python 3",
   "language": "python",
   "name": "python3"
  },
  "language_info": {
   "codemirror_mode": {
    "name": "ipython",
    "version": 3
   },
   "file_extension": ".py",
   "mimetype": "text/x-python",
   "name": "python",
   "nbconvert_exporter": "python",
   "pygments_lexer": "ipython3",
   "version": "3.11.2"
  }
 },
 "nbformat": 4,
 "nbformat_minor": 2
}
