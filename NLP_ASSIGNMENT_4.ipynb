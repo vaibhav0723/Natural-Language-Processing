{
  "nbformat": 4,
  "nbformat_minor": 0,
  "metadata": {
    "colab": {
      "provenance": []
    },
    "kernelspec": {
      "name": "python3",
      "display_name": "Python 3"
    },
    "language_info": {
      "name": "python"
    }
  },
  "cells": [
    {
      "cell_type": "code",
      "execution_count": null,
      "metadata": {
        "id": "sikIHYLHV4gv"
      },
      "outputs": [],
      "source": [
        "import torch\n",
        "import torch.nn as nn\n",
        "import torch.nn.functional as F\n",
        "import math"
      ]
    },
    {
      "cell_type": "code",
      "source": [
        "class MultiHeadAttention(nn.Module):\n",
        "    def __init__(self, d_model, num_heads):\n",
        "        super(MultiHeadAttention, self).__init__()\n",
        "        assert d_model % num_heads == 0, \"d_model must be divisible by num_heads\"\n",
        "\n",
        "        self.d_model = d_model\n",
        "        self.num_heads = num_heads\n",
        "        self.depth = d_model // num_heads\n",
        "\n",
        "        self.query_linear = nn.Linear(d_model, d_model)\n",
        "        self.key_linear = nn.Linear(d_model, d_model)\n",
        "        self.value_linear = nn.Linear(d_model, d_model)\n",
        "\n",
        "        self.out_linear = nn.Linear(d_model, d_model)\n",
        "\n",
        "    def scaled_dot_product_attention(self, query, key, value, mask=None):\n",
        "        scores = torch.matmul(query, key.transpose(-2, -1)) / math.sqrt(self.depth)\n",
        "        if mask is not None:\n",
        "            scores = scores.masked_fill(mask == 0, -1e9)\n",
        "        attention_weights = F.softmax(scores, dim=-1)\n",
        "        output = torch.matmul(attention_weights, value)\n",
        "        return output, attention_weights\n",
        "\n",
        "    def split_heads(self, x):\n",
        "        \"\"\"Split the last dimension into (num_heads, depth).\"\"\"\n",
        "        batch_size = x.size(0)\n",
        "        return x.view(batch_size, -1, self.num_heads, self.depth).transpose(1, 2)\n",
        "\n",
        "    def forward(self, query, key, value, mask=None):\n",
        "        query = self.split_heads(self.query_linear(query))\n",
        "        key = self.split_heads(self.key_linear(key))\n",
        "        value = self.split_heads(self.value_linear(value))\n",
        "\n",
        "        attention_output, _ = self.scaled_dot_product_attention(query, key, value, mask)\n",
        "\n",
        "        # Concatenate heads\n",
        "        attention_output = attention_output.transpose(1, 2).contiguous().view(query.size(0), -1, self.d_model)\n",
        "\n",
        "        return self.out_linear(attention_output)"
      ],
      "metadata": {
        "id": "NxGr3btGZH0F"
      },
      "execution_count": null,
      "outputs": []
    },
    {
      "cell_type": "code",
      "source": [
        "class PositionalEncoding(nn.Module):\n",
        "    def __init__(self, d_model, max_len=5000):\n",
        "        super(PositionalEncoding, self).__init__()\n",
        "        position = torch.arange(0, max_len).unsqueeze(1)\n",
        "        div_term = torch.exp(torch.arange(0, d_model, 2) * -(math.log(10000.0) / d_model))\n",
        "        pe = torch.zeros(max_len, d_model)\n",
        "        pe[:, 0::2] = torch.sin(position * div_term)\n",
        "        pe[:, 1::2] = torch.cos(position * div_term)\n",
        "        self.pe = pe.unsqueeze(0)\n",
        "\n",
        "    def forward(self, x):\n",
        "        return x + self.pe[:, :x.size(1)].to(x.device)"
      ],
      "metadata": {
        "id": "qVzrsCSAZMwk"
      },
      "execution_count": null,
      "outputs": []
    },
    {
      "cell_type": "code",
      "source": [
        "class TransformerEncoderLayer(nn.Module):\n",
        "    def __init__(self, d_model, num_heads, dim_feedforward=2048, dropout=0.1):\n",
        "        super(TransformerEncoderLayer, self).__init__()\n",
        "        self.self_attn = MultiHeadAttention(d_model, num_heads)\n",
        "        self.feedforward = nn.Sequential(\n",
        "            nn.Linear(d_model, dim_feedforward),\n",
        "            nn.ReLU(),\n",
        "            nn.Linear(dim_feedforward, d_model)\n",
        "        )\n",
        "        self.layer_norm1 = nn.LayerNorm(d_model)\n",
        "        self.layer_norm2 = nn.LayerNorm(d_model)\n",
        "        self.dropout = nn.Dropout(dropout)\n",
        "\n",
        "    def forward(self, src, mask=None):\n",
        "        # Self-attention\n",
        "        attn_output = self.self_attn(src, src, src, mask)\n",
        "        src = self.layer_norm1(src + self.dropout(attn_output))\n",
        "\n",
        "        # Feedforward\n",
        "        ff_output = self.feedforward(src)\n",
        "        src = self.layer_norm2(src + self.dropout(ff_output))\n",
        "\n",
        "        return src\n"
      ],
      "metadata": {
        "id": "or7PDeUkZQD1"
      },
      "execution_count": null,
      "outputs": []
    },
    {
      "cell_type": "code",
      "source": [
        "class TransformerEncoder(nn.Module):\n",
        "    def __init__(self, d_model, num_heads, num_layers, dim_feedforward=2048, dropout=0.1):\n",
        "        super(TransformerEncoder, self).__init__()\n",
        "        self.layers = nn.ModuleList([\n",
        "            TransformerEncoderLayer(d_model, num_heads, dim_feedforward, dropout)\n",
        "            for _ in range(num_layers)\n",
        "        ])\n",
        "        self.positional_encoding = PositionalEncoding(d_model)\n",
        "\n",
        "    def forward(self, src, mask=None):\n",
        "        src = self.positional_encoding(src)\n",
        "        for layer in self.layers:\n",
        "            src = layer(src, mask)\n",
        "        return src"
      ],
      "metadata": {
        "id": "j2oQWAAmZXXM"
      },
      "execution_count": null,
      "outputs": []
    },
    {
      "cell_type": "code",
      "source": [
        "class Transformer(nn.Module):\n",
        "    def __init__(self, d_model, num_heads, num_encoder_layers, vocab_size, dim_feedforward=2048, dropout=0.1):\n",
        "        super(Transformer, self).__init__()\n",
        "        self.embedding = nn.Embedding(vocab_size, d_model)\n",
        "        self.encoder = TransformerEncoder(d_model, num_heads, num_encoder_layers, dim_feedforward, dropout)\n",
        "        self.fc_out = nn.Linear(d_model, vocab_size)\n",
        "\n",
        "    def forward(self, src, src_mask=None):\n",
        "        embedded = self.embedding(src)\n",
        "        encoded_output = self.encoder(embedded, src_mask)\n",
        "        logits = self.fc_out(encoded_output)\n",
        "        return logits\n"
      ],
      "metadata": {
        "id": "4liAAokuZZMw"
      },
      "execution_count": null,
      "outputs": []
    },
    {
      "cell_type": "code",
      "source": [
        "# Example usage\n",
        "d_model = 512\n",
        "num_heads = 8\n",
        "num_encoder_layers = 6\n",
        "vocab_size = 10000\n",
        "src_sequence = torch.randint(0, vocab_size, (32, 10))  # Example batch of sequences\n",
        "\n",
        "transformer = Transformer(d_model, num_heads, num_encoder_layers, vocab_size)\n",
        "output = transformer(src_sequence)\n",
        "print(output.shape)  # Output shape: (batch_size, sequence_length, vocab_size)\n"
      ],
      "metadata": {
        "id": "f7jgcYQkZbIn",
        "outputId": "61ce10f0-03a8-416f-b2b7-5cb682f089dd",
        "colab": {
          "base_uri": "https://localhost:8080/"
        }
      },
      "execution_count": null,
      "outputs": [
        {
          "output_type": "stream",
          "name": "stdout",
          "text": [
            "torch.Size([32, 10, 10000])\n"
          ]
        }
      ]
    }
  ]
}